{
 "cells": [
  {
   "cell_type": "code",
   "execution_count": 22,
   "metadata": {},
   "outputs": [],
   "source": [
    "# hand = [1,2,3,6,2,3,4,7,8]\n",
    "# groupSize = 3\n",
    "\n",
    "hand = [1,2,3,4,5]\n",
    "groupSize = 4"
   ]
  },
  {
   "cell_type": "code",
   "execution_count": 23,
   "metadata": {},
   "outputs": [],
   "source": [
    "hand = sorted(hand)"
   ]
  },
  {
   "cell_type": "code",
   "execution_count": 24,
   "metadata": {},
   "outputs": [
    {
     "data": {
      "text/plain": [
       "{1: 1, 2: 1, 3: 1, 4: 1, 5: 1}"
      ]
     },
     "execution_count": 24,
     "metadata": {},
     "output_type": "execute_result"
    }
   ],
   "source": [
    "ordered_count = {}\n",
    "for card in hand:\n",
    "    if card in ordered_count:\n",
    "        ordered_count[card] += 1\n",
    "    else:\n",
    "        ordered_count[card] = 1\n",
    "\n",
    "ordered_count"
   ]
  },
  {
   "cell_type": "code",
   "execution_count": 25,
   "metadata": {},
   "outputs": [],
   "source": [
    "def foo():\n",
    "    #[start, end] is the CLOSED interval that represents a hand of straight\n",
    "    start = min(ordered_count)\n",
    "    end = start + groupSize - 1\n",
    "\n",
    "    while len(ordered_count) > 0:\n",
    "        start = min(ordered_count)\n",
    "        end = start + groupSize - 1\n",
    "        print(f'from {start} to {end}')\n",
    "\n",
    "        # a single hand of straight\n",
    "        while start <= end:\n",
    "            # the consecutive chain breaks in the middle\n",
    "            if start not in ordered_count:\n",
    "                return False\n",
    "            ordered_count[start] -= 1\n",
    "\n",
    "            if ordered_count[start] == 0:\n",
    "                del ordered_count[start]\n",
    "\n",
    "            start += 1\n",
    "    return True"
   ]
  },
  {
   "cell_type": "code",
   "execution_count": 26,
   "metadata": {},
   "outputs": [
    {
     "name": "stdout",
     "output_type": "stream",
     "text": [
      "from 1 to 4\n",
      "from 5 to 8\n"
     ]
    },
    {
     "data": {
      "text/plain": [
       "False"
      ]
     },
     "execution_count": 26,
     "metadata": {},
     "output_type": "execute_result"
    }
   ],
   "source": [
    "foo()"
   ]
  },
  {
   "cell_type": "code",
   "execution_count": null,
   "metadata": {},
   "outputs": [],
   "source": []
  }
 ],
 "metadata": {
  "kernelspec": {
   "display_name": "base",
   "language": "python",
   "name": "python3"
  },
  "language_info": {
   "codemirror_mode": {
    "name": "ipython",
    "version": 3
   },
   "file_extension": ".py",
   "mimetype": "text/x-python",
   "name": "python",
   "nbconvert_exporter": "python",
   "pygments_lexer": "ipython3",
   "version": "3.10.9"
  }
 },
 "nbformat": 4,
 "nbformat_minor": 2
}
