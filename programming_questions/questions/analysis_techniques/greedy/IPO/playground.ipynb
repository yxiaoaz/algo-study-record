{
 "cells": [
  {
   "cell_type": "code",
   "execution_count": 1,
   "metadata": {},
   "outputs": [],
   "source": [
    "\n",
    "profits = [1,2,3]\n",
    "capital = [0,1,1]\n",
    "\n"
   ]
  },
  {
   "cell_type": "code",
   "execution_count": 3,
   "metadata": {},
   "outputs": [],
   "source": [
    "idx_pc_map = {i:{\"p\": profits[i], \"c\": capital[i]} for i in range(len(profits))}"
   ]
  },
  {
   "cell_type": "code",
   "execution_count": 4,
   "metadata": {},
   "outputs": [
    {
     "data": {
      "text/plain": [
       "{0: {'p': 1, 'c': 0}, 1: {'p': 2, 'c': 1}, 2: {'p': 3, 'c': 1}}"
      ]
     },
     "execution_count": 4,
     "metadata": {},
     "output_type": "execute_result"
    }
   ],
   "source": [
    "idx_pc_map"
   ]
  },
  {
   "cell_type": "code",
   "execution_count": 13,
   "metadata": {},
   "outputs": [
    {
     "data": {
      "text/plain": [
       "[2, 1, 0]"
      ]
     },
     "execution_count": 13,
     "metadata": {},
     "output_type": "execute_result"
    }
   ],
   "source": [
    "sorted_investment_idx = sorted(idx_pc_map, key = lambda idx: (-idx_pc_map[idx][\"p\"], idx_pc_map[idx][\"c\"]))\n",
    "sorted_investment_idx"
   ]
  },
  {
   "cell_type": "code",
   "execution_count": 14,
   "metadata": {},
   "outputs": [
    {
     "data": {
      "text/plain": [
       "4"
      ]
     },
     "execution_count": 14,
     "metadata": {},
     "output_type": "execute_result"
    }
   ],
   "source": [
    "k = 2\n",
    "w = 0\n",
    "\n",
    "while k>0:\n",
    "    for idx in sorted_investment_idx:\n",
    "        if idx_pc_map[idx][\"c\"] > w:\n",
    "            continue\n",
    "        w += idx_pc_map[idx][\"p\"]\n",
    "        sorted_investment_idx.remove(idx)\n",
    "        break\n",
    "    k-=1\n",
    "\n",
    "w\n"
   ]
  },
  {
   "cell_type": "markdown",
   "metadata": {},
   "source": [
    "The above works algorithmtically but is too slow, use heap sort"
   ]
  },
  {
   "cell_type": "code",
   "execution_count": 20,
   "metadata": {},
   "outputs": [],
   "source": [
    "projects = [(-profits[i], capital[i]) for i in range(len(profits))]"
   ]
  },
  {
   "cell_type": "code",
   "execution_count": 21,
   "metadata": {},
   "outputs": [
    {
     "data": {
      "text/plain": [
       "[(-1, 0), (-2, 1), (-3, 1)]"
      ]
     },
     "execution_count": 21,
     "metadata": {},
     "output_type": "execute_result"
    }
   ],
   "source": [
    "projects"
   ]
  },
  {
   "cell_type": "code",
   "execution_count": 25,
   "metadata": {},
   "outputs": [
    {
     "name": "stdout",
     "output_type": "stream",
     "text": [
      "[(-1, 0)]\n",
      "[(-2, 1), (-3, 1)]\n"
     ]
    },
    {
     "data": {
      "text/plain": [
       "4"
      ]
     },
     "execution_count": 25,
     "metadata": {},
     "output_type": "execute_result"
    }
   ],
   "source": [
    "#heapq.heappush(heap, item)\n",
    "#heapq.heappop(heap)\n",
    "#heapq.heappushpop(heap, item)\n",
    "\n",
    "import heapq\n",
    "\n",
    "k = 2\n",
    "w = 0\n",
    "\n",
    "invested = set()\n",
    "\n",
    "while k > 0:\n",
    "    heap = []\n",
    "    available_projects = [p for p in projects if p not in invested and p[1]<=w]\n",
    "    \n",
    "    for p in available_projects:\n",
    "        heapq.heappush(heap, p)\n",
    "    \n",
    "    selected_project = heapq.heappop(heap)\n",
    "    invested.add(selected_project)\n",
    "    w += -selected_project[0]\n",
    "    k -= 1\n",
    "\n",
    "w\n",
    "    \n"
   ]
  },
  {
   "cell_type": "code",
   "execution_count": null,
   "metadata": {},
   "outputs": [],
   "source": []
  }
 ],
 "metadata": {
  "kernelspec": {
   "display_name": "base",
   "language": "python",
   "name": "python3"
  },
  "language_info": {
   "codemirror_mode": {
    "name": "ipython",
    "version": 3
   },
   "file_extension": ".py",
   "mimetype": "text/x-python",
   "name": "python",
   "nbconvert_exporter": "python",
   "pygments_lexer": "ipython3",
   "version": "3.10.9"
  }
 },
 "nbformat": 4,
 "nbformat_minor": 2
}
