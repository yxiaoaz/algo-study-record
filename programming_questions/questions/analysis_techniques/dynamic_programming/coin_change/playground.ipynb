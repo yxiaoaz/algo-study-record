{
 "cells": [
  {
   "cell_type": "code",
   "execution_count": 1,
   "metadata": {},
   "outputs": [],
   "source": [
    "coins = [1, 6, 7 , 9, 11]\n",
    "target = 13"
   ]
  },
  {
   "cell_type": "code",
   "execution_count": 3,
   "metadata": {},
   "outputs": [
    {
     "name": "stdout",
     "output_type": "stream",
     "text": [
      "1\n",
      "If spend 0 coins, will need additional $13;\n",
      "If spend 1 coins, will need additional $12;\n",
      "If spend 2 coins, will need additional $11;\n",
      "If spend 3 coins, will need additional $10;\n",
      "If spend 4 coins, will need additional $9;\n",
      "If spend 5 coins, will need additional $8;\n",
      "If spend 6 coins, will need additional $7;\n",
      "If spend 7 coins, will need additional $6;\n",
      "If spend 8 coins, will need additional $5;\n",
      "If spend 9 coins, will need additional $4;\n",
      "If spend 10 coins, will need additional $3;\n",
      "If spend 11 coins, will need additional $2;\n",
      "If spend 12 coins, will need additional $1;\n",
      "If spend 13 coins, will need additional $0;\n",
      "6\n",
      "If spend 0 coins, will need additional $13;\n",
      "If spend 1 coins, will need additional $7;\n",
      "If spend 2 coins, will need additional $1;\n",
      "7\n",
      "If spend 0 coins, will need additional $13;\n",
      "If spend 1 coins, will need additional $6;\n",
      "9\n",
      "If spend 0 coins, will need additional $13;\n",
      "If spend 1 coins, will need additional $4;\n",
      "11\n",
      "If spend 0 coins, will need additional $13;\n",
      "If spend 1 coins, will need additional $2;\n"
     ]
    }
   ],
   "source": [
    "for c in coins:\n",
    "    print(c)\n",
    "    for num in range(1 + target//c):\n",
    "        print(f'If spend {num} coins, will need additional ${target - num*c};')"
   ]
  },
  {
   "cell_type": "code",
   "execution_count": 27,
   "metadata": {},
   "outputs": [
    {
     "data": {
      "text/plain": [
       "[-1, -1, -1, -1, -1, -1, -1, -1, -1, -1, -1, -1, -1, -1]"
      ]
     },
     "execution_count": 27,
     "metadata": {},
     "output_type": "execute_result"
    }
   ],
   "source": [
    "combinations = [-1] * (target+1)\n",
    "combinations"
   ]
  },
  {
   "cell_type": "code",
   "execution_count": 30,
   "metadata": {},
   "outputs": [
    {
     "data": {
      "text/plain": [
       "[0, 1, 2, 3, 4, 5, 6, 7, 8, 9, 10, 11, 12, 13]"
      ]
     },
     "execution_count": 30,
     "metadata": {},
     "output_type": "execute_result"
    }
   ],
   "source": [
    "for amount in range(target+1):\n",
    "    if amount == 0:\n",
    "        combinations[amount] = 0\n",
    "        continue\n",
    "    \n",
    "    candidates = []\n",
    "    for c in coins:\n",
    "        closest_amount = amount - c\n",
    "        if closest_amount < 0:\n",
    "            continue\n",
    "        if combinations[closest_amount] >= 0:\n",
    "            candidates.append(combinations[closest_amount] + 1)\n",
    "    \n",
    "    combinations[amount] = min(candidates, default = -1)\n",
    "\n",
    "combinations\n"
   ]
  },
  {
   "cell_type": "code",
   "execution_count": null,
   "metadata": {},
   "outputs": [],
   "source": []
  }
 ],
 "metadata": {
  "kernelspec": {
   "display_name": "Python 3",
   "language": "python",
   "name": "python3"
  },
  "language_info": {
   "codemirror_mode": {
    "name": "ipython",
    "version": 3
   },
   "file_extension": ".py",
   "mimetype": "text/x-python",
   "name": "python",
   "nbconvert_exporter": "python",
   "pygments_lexer": "ipython3",
   "version": "3.10.9"
  }
 },
 "nbformat": 4,
 "nbformat_minor": 2
}
